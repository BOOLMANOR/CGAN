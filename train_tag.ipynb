{
 "cells": [
  {
   "cell_type": "code",
   "execution_count": 2,
   "metadata": {},
   "outputs": [],
   "source": [
    "import pandas as pd\n",
    "import re"
   ]
  },
  {
   "cell_type": "code",
   "execution_count": 9,
   "metadata": {},
   "outputs": [],
   "source": [
    "clean_tag = pd.read_csv(\"tags.csv\",header=None,names=[\"id\",\"description\"])"
   ]
  },
  {
   "cell_type": "code",
   "execution_count": 71,
   "metadata": {},
   "outputs": [],
   "source": [
    "def get_train_tag(text):\n",
    "    #only save hair and eyes description using regular expressions\n",
    "    hair_descriptions = re.findall(r\"[a-z]+ hair\",text)\n",
    "    eyes_descriptions = re.findall(r\"[a-z]+ eyes\",text)\n",
    "    \n",
    "    if len(hair_descriptions)==0 and len(eyes_descriptions)==0:\n",
    "        return 0\n",
    "    \n",
    "    if len(hair_descriptions)>1:\n",
    "        hair=\"\"\n",
    "        for x in hair_descriptions:\n",
    "            q = x.split(\" \")\n",
    "            hair=hair+q[0]+\" \"\n",
    "        hair=hair+\"hair\"\n",
    "    elif len(hair_descriptions)==1:\n",
    "        hair=hair_descriptions[0]\n",
    "    else:\n",
    "        hair = 0\n",
    "        \n",
    "    if len(eyes_descriptions)>1:\n",
    "        eyes=\"\"\n",
    "        for x in eyes_descriptions:\n",
    "            q = x.split(\" \")\n",
    "            eyes=eyes+q[0]+\" \"\n",
    "        eyes=eyes+\"eyes\"\n",
    "    elif len(eyes_descriptions)==1:\n",
    "        eyes=eyes_descriptions[0]\n",
    "    else:\n",
    "        eyes = 0\n",
    "    \n",
    "    return hair,eyes"
   ]
  },
  {
   "cell_type": "code",
   "execution_count": 73,
   "metadata": {},
   "outputs": [],
   "source": [
    "train_tag={}\n",
    "for index, row in clean_tag.iterrows():\n",
    "    if get_train_tag(row[\"description\"])==0:\n",
    "        continue\n",
    "    hair,eyes = get_train_tag(row[\"description\"])\n",
    "    \n",
    "    if hair!=0 and eyes !=0:\n",
    "        description = hair + \" and \" + eyes\n",
    "    elif hair ==0:\n",
    "        description=eyes\n",
    "    elif eyes ==0:\n",
    "        description=hair\n",
    "    \n",
    "    train_tag[row[\"id\"]]=description\n",
    "    "
   ]
  },
  {
   "cell_type": "code",
   "execution_count": 76,
   "metadata": {},
   "outputs": [
    {
     "data": {
      "text/plain": [
       "18121"
      ]
     },
     "execution_count": 76,
     "metadata": {},
     "output_type": "execute_result"
    }
   ],
   "source": [
    "len(train_tag)\n",
    "#共18121/33400张有效图片"
   ]
  },
  {
   "cell_type": "code",
   "execution_count": 75,
   "metadata": {},
   "outputs": [],
   "source": [
    "f=open(\"train_tag_dict.txt\",\"w\")\n",
    "f.write(str(train_tag))\n",
    "f.close()"
   ]
  },
  {
   "cell_type": "code",
   "execution_count": null,
   "metadata": {},
   "outputs": [],
   "source": []
  }
 ],
 "metadata": {
  "kernelspec": {
   "display_name": "Python 3",
   "language": "python",
   "name": "python3"
  },
  "language_info": {
   "codemirror_mode": {
    "name": "ipython",
    "version": 3
   },
   "file_extension": ".py",
   "mimetype": "text/x-python",
   "name": "python",
   "nbconvert_exporter": "python",
   "pygments_lexer": "ipython3",
   "version": "3.7.2"
  }
 },
 "nbformat": 4,
 "nbformat_minor": 2
}
