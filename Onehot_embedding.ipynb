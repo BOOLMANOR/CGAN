{
 "cells": [
  {
   "cell_type": "code",
   "execution_count": 1,
   "metadata": {},
   "outputs": [],
   "source": [
    "import numpy as np\n",
    "import re"
   ]
  },
  {
   "cell_type": "code",
   "execution_count": 2,
   "metadata": {},
   "outputs": [],
   "source": [
    "f=open(\"train_tag_dict.txt\",\"r\")\n",
    "data =eval(f.read())"
   ]
  },
  {
   "cell_type": "code",
   "execution_count": 3,
   "metadata": {},
   "outputs": [
    {
     "name": "stdout",
     "output_type": "stream",
     "text": [
      "keep_words 16 / 18 = 0.8889\n"
     ]
    }
   ],
   "source": [
    "class Voc:\n",
    "    def __init__(self,name):\n",
    "        self.name = name\n",
    "        self.trimmed=False\n",
    "        self.word2index = {}\n",
    "        self.word2count = {}\n",
    "        self.index2word = {}\n",
    "        self.num_words = 0 \n",
    "    \n",
    "    def addSentence(self,sentence):\n",
    "        for word in sentence.split(' '):\n",
    "            if word!=\"hair\" and word!=\"eyes\" and word!=\"and\":\n",
    "                self.addWord(word)\n",
    "\n",
    "    def addWord(self,word):\n",
    "        if word not in self.word2index:\n",
    "            self.word2index[word] = self.num_words\n",
    "            self.word2count[word] = 1\n",
    "            self.index2word[self.num_words]=word\n",
    "            self.num_words += 1\n",
    "        else:\n",
    "            self.word2count[word] += 1\n",
    "    \n",
    "    #删除低于特定计数阈值的词，降低模型复杂度\n",
    "    def trim(self,min_count):\n",
    "        if self.trimmed:\n",
    "            return\n",
    "        self.trimmed = True\n",
    "        keep_words = []\n",
    "\n",
    "        for k,v in self.word2count.items():\n",
    "            if v >= min_count:\n",
    "                    keep_words.append(k)\n",
    "\n",
    "        print('keep_words {} / {} = {:.4f}'.format(len(keep_words),len(self.word2index),len(keep_words)/len(self.word2index)))\n",
    "\n",
    "        self.word2index = {}\n",
    "        self.word2count = {}\n",
    "        self.index2word = {}\n",
    "        self.num_words = 0\n",
    "\n",
    "        for word in keep_words:\n",
    "            self.addWord(word)\n",
    "            \n",
    "    def split_description(self,sentence):\n",
    "        q=sentence.split(\" \")\n",
    "        hair=[]\n",
    "        eyes=[]\n",
    "        if \"and\" in q:\n",
    "            del q[q.index(\"and\")]\n",
    "            hair_index = q.index(\"hair\")\n",
    "            eyes_index = q.index(\"eyes\")\n",
    "            if hair_index<eyes_index:\n",
    "                hair=q[0:hair_index]\n",
    "                eyes=q[hair_index+1:eyes_index]\n",
    "            else:\n",
    "                eyes=q[0:eyes_index]\n",
    "                hair=q[eyes_index+1:hair_index]\n",
    "            \n",
    "            return hair,eyes\n",
    "        \n",
    "        if \"hair\" in q:\n",
    "            del q[q.index(\"hair\")]\n",
    "            hair = q\n",
    "        if \"eyes\" in q:\n",
    "            del q[q.index(\"eyes\")]\n",
    "            eyes = q\n",
    "            \n",
    "        return hair,eyes\n",
    "    \n",
    "    def generate_d_vectors(self,hair,eyes):\n",
    "        h_vector=np.zeros(self.num_words)\n",
    "        e_vector=np.zeros(self.num_words)\n",
    "        \n",
    "        for i in hair:\n",
    "            h_vector[self.word2index[i]]=1\n",
    "        for i in eyes:\n",
    "            e_vector[self.word2index[i]]=1\n",
    "        \n",
    "        return h_vector,e_vector\n",
    "        \n",
    "voc = Voc(\"d_vector\")\n",
    "for key in data:\n",
    "    voc.addSentence(data[key])\n",
    "voc.trim(100)"
   ]
  },
  {
   "cell_type": "code",
   "execution_count": 5,
   "metadata": {},
   "outputs": [],
   "source": [
    "import os\n",
    "#删除未知标签的文件"
   ]
  },
  {
   "cell_type": "code",
   "execution_count": 8,
   "metadata": {},
   "outputs": [],
   "source": [
    "required_img = list(data.keys())"
   ]
  },
  {
   "cell_type": "code",
   "execution_count": 23,
   "metadata": {},
   "outputs": [],
   "source": [
    "for i in range(33430):\n",
    "    i=i+1\n",
    "    if i not in required_img:\n",
    "        path = r\"./faces/\"+str(i)+\".jpg\"\n",
    "        os.remove(path)"
   ]
  }
 ],
 "metadata": {
  "kernelspec": {
   "display_name": "Python 3",
   "language": "python",
   "name": "python3"
  },
  "language_info": {
   "codemirror_mode": {
    "name": "ipython",
    "version": 3
   },
   "file_extension": ".py",
   "mimetype": "text/x-python",
   "name": "python",
   "nbconvert_exporter": "python",
   "pygments_lexer": "ipython3",
   "version": "3.7.2"
  }
 },
 "nbformat": 4,
 "nbformat_minor": 2
}
